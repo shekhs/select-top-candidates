{
 "cells": [
  {
   "cell_type": "code",
   "execution_count": 3,
   "id": "5abefc9d",
   "metadata": {},
   "outputs": [],
   "source": [
    "# !pip install pandas"
   ]
  },
  {
   "cell_type": "code",
   "execution_count": 5,
   "id": "53427cde",
   "metadata": {},
   "outputs": [],
   "source": [
    "import json\n",
    "import pandas as pd\n",
    "\n",
    "# Load the dataset\n",
    "df = pd.read_json('/Users/shusshekhar/Desktop/candidate select/100b-jobs-app/abc.json')"
   ]
  },
  {
   "cell_type": "code",
   "execution_count": 6,
   "id": "8244a521",
   "metadata": {},
   "outputs": [
    {
     "data": {
      "text/html": [
       "<div>\n",
       "<style scoped>\n",
       "    .dataframe tbody tr th:only-of-type {\n",
       "        vertical-align: middle;\n",
       "    }\n",
       "\n",
       "    .dataframe tbody tr th {\n",
       "        vertical-align: top;\n",
       "    }\n",
       "\n",
       "    .dataframe thead th {\n",
       "        text-align: right;\n",
       "    }\n",
       "</style>\n",
       "<table border=\"1\" class=\"dataframe\">\n",
       "  <thead>\n",
       "    <tr style=\"text-align: right;\">\n",
       "      <th></th>\n",
       "      <th>name</th>\n",
       "      <th>email</th>\n",
       "      <th>phone</th>\n",
       "      <th>location</th>\n",
       "      <th>submitted_at</th>\n",
       "      <th>work_availability</th>\n",
       "      <th>annual_salary_expectation</th>\n",
       "      <th>work_experiences</th>\n",
       "      <th>education</th>\n",
       "      <th>skills</th>\n",
       "    </tr>\n",
       "  </thead>\n",
       "  <tbody>\n",
       "    <tr>\n",
       "      <th>907</th>\n",
       "      <td></td>\n",
       "      <td>daring-jaguar@example.com</td>\n",
       "      <td>5.731605e+11</td>\n",
       "      <td>Bogotá</td>\n",
       "      <td>2025-01-28 00:18:43</td>\n",
       "      <td>[full-time, part-time]</td>\n",
       "      <td>{'full-time': '$137489'}</td>\n",
       "      <td>[{'company': 'IDEMIA', 'roleName': 'Software D...</td>\n",
       "      <td>{'highest_level': 'Bachelor's Degree', 'degree...</td>\n",
       "      <td>[Docker, HTML/CSS, Java, Python, SQL, Flask, A...</td>\n",
       "    </tr>\n",
       "    <tr>\n",
       "      <th>334</th>\n",
       "      <td>Joyful Jaguar</td>\n",
       "      <td>joyful-jaguar@example.com</td>\n",
       "      <td>5.989345e+10</td>\n",
       "      <td>Uruguay</td>\n",
       "      <td>2025-01-27 20:57:55</td>\n",
       "      <td>[full-time, part-time]</td>\n",
       "      <td>{'full-time': '$109926'}</td>\n",
       "      <td>[{'company': 'Jetmar', 'roleName': 'IT Support...</td>\n",
       "      <td>{'highest_level': 'Bachelor's Degree', 'degree...</td>\n",
       "      <td>[Excel, Python]</td>\n",
       "    </tr>\n",
       "    <tr>\n",
       "      <th>633</th>\n",
       "      <td>Witty Penguin</td>\n",
       "      <td>witty-penguin@example.com</td>\n",
       "      <td>3.630932e+10</td>\n",
       "      <td>Budapest</td>\n",
       "      <td>2025-01-28 01:09:14</td>\n",
       "      <td>[full-time, part-time]</td>\n",
       "      <td>{'full-time': '$110336'}</td>\n",
       "      <td>[{'company': 'WorkPilots', 'roleName': 'Senior...</td>\n",
       "      <td>{'highest_level': 'Associate's Degree', 'degre...</td>\n",
       "      <td>[Django, Python]</td>\n",
       "    </tr>\n",
       "    <tr>\n",
       "      <th>63</th>\n",
       "      <td>Enthusiastic Hamster</td>\n",
       "      <td>enthusiastic-hamster@example.com</td>\n",
       "      <td>5.547989e+12</td>\n",
       "      <td>Brazil</td>\n",
       "      <td>2025-01-27 09:50:37</td>\n",
       "      <td>[full-time, part-time]</td>\n",
       "      <td>{'full-time': '$104220'}</td>\n",
       "      <td>[{'company': 'Inside Real Estate', 'roleName':...</td>\n",
       "      <td>{'highest_level': 'Bachelor's Degree', 'degree...</td>\n",
       "      <td>[Python, SQL, Tableau, Power BI, Hadoop, REST ...</td>\n",
       "    </tr>\n",
       "    <tr>\n",
       "      <th>623</th>\n",
       "      <td>Fearless Dolphin</td>\n",
       "      <td>fearless-dolphin@example.com</td>\n",
       "      <td>3.369846e+10</td>\n",
       "      <td>Aix-en-Provence</td>\n",
       "      <td>2025-01-26 21:27:52</td>\n",
       "      <td>[full-time, part-time]</td>\n",
       "      <td>{'full-time': '$116505'}</td>\n",
       "      <td>[{'company': 'Aix-Marseille University', 'role...</td>\n",
       "      <td>{'highest_level': 'Doctorate', 'degrees': [{'d...</td>\n",
       "      <td>[]</td>\n",
       "    </tr>\n",
       "  </tbody>\n",
       "</table>\n",
       "</div>"
      ],
      "text/plain": [
       "                     name                             email         phone  \\\n",
       "907                               daring-jaguar@example.com  5.731605e+11   \n",
       "334         Joyful Jaguar         joyful-jaguar@example.com  5.989345e+10   \n",
       "633         Witty Penguin         witty-penguin@example.com  3.630932e+10   \n",
       "63   Enthusiastic Hamster  enthusiastic-hamster@example.com  5.547989e+12   \n",
       "623      Fearless Dolphin      fearless-dolphin@example.com  3.369846e+10   \n",
       "\n",
       "            location        submitted_at       work_availability  \\\n",
       "907           Bogotá 2025-01-28 00:18:43  [full-time, part-time]   \n",
       "334          Uruguay 2025-01-27 20:57:55  [full-time, part-time]   \n",
       "633         Budapest 2025-01-28 01:09:14  [full-time, part-time]   \n",
       "63            Brazil 2025-01-27 09:50:37  [full-time, part-time]   \n",
       "623  Aix-en-Provence 2025-01-26 21:27:52  [full-time, part-time]   \n",
       "\n",
       "    annual_salary_expectation  \\\n",
       "907  {'full-time': '$137489'}   \n",
       "334  {'full-time': '$109926'}   \n",
       "633  {'full-time': '$110336'}   \n",
       "63   {'full-time': '$104220'}   \n",
       "623  {'full-time': '$116505'}   \n",
       "\n",
       "                                      work_experiences  \\\n",
       "907  [{'company': 'IDEMIA', 'roleName': 'Software D...   \n",
       "334  [{'company': 'Jetmar', 'roleName': 'IT Support...   \n",
       "633  [{'company': 'WorkPilots', 'roleName': 'Senior...   \n",
       "63   [{'company': 'Inside Real Estate', 'roleName':...   \n",
       "623  [{'company': 'Aix-Marseille University', 'role...   \n",
       "\n",
       "                                             education  \\\n",
       "907  {'highest_level': 'Bachelor's Degree', 'degree...   \n",
       "334  {'highest_level': 'Bachelor's Degree', 'degree...   \n",
       "633  {'highest_level': 'Associate's Degree', 'degre...   \n",
       "63   {'highest_level': 'Bachelor's Degree', 'degree...   \n",
       "623  {'highest_level': 'Doctorate', 'degrees': [{'d...   \n",
       "\n",
       "                                                skills  \n",
       "907  [Docker, HTML/CSS, Java, Python, SQL, Flask, A...  \n",
       "334                                    [Excel, Python]  \n",
       "633                                   [Django, Python]  \n",
       "63   [Python, SQL, Tableau, Power BI, Hadoop, REST ...  \n",
       "623                                                 []  "
      ]
     },
     "execution_count": 6,
     "metadata": {},
     "output_type": "execute_result"
    }
   ],
   "source": [
    "df.sample(5)"
   ]
  },
  {
   "cell_type": "code",
   "execution_count": 7,
   "id": "19915061",
   "metadata": {},
   "outputs": [
    {
     "data": {
      "text/plain": [
       "Index(['name', 'email', 'phone', 'location', 'submitted_at',\n",
       "       'work_availability', 'annual_salary_expectation', 'work_experiences',\n",
       "       'education', 'skills'],\n",
       "      dtype='object')"
      ]
     },
     "execution_count": 7,
     "metadata": {},
     "output_type": "execute_result"
    }
   ],
   "source": [
    "df.columns"
   ]
  },
  {
   "cell_type": "code",
   "execution_count": 9,
   "id": "1a529dbd",
   "metadata": {},
   "outputs": [
    {
     "data": {
      "text/plain": [
       "<bound method Series.unique of 0                 [Data Analysis, Docker, Microservices]\n",
       "1                                                     []\n",
       "2      [Laravel, Next JS, React, React Native, Redux,...\n",
       "3      [Amazon Web Services, Python, Flask, Agile, RE...\n",
       "4      [JavaScript, Arduino, Amazon Web Services, Azu...\n",
       "                             ...                        \n",
       "970                                     [Java, SQL, XML]\n",
       "971                                            [Next JS]\n",
       "972    [MongoDB, TypeScript, React Native, REST APIs,...\n",
       "973    [JavaScript, Project Management, Express, Java...\n",
       "974    [NLP, SQL, Power BI, Amazon Web Services, Exce...\n",
       "Name: skills, Length: 975, dtype: object>"
      ]
     },
     "execution_count": 9,
     "metadata": {},
     "output_type": "execute_result"
    }
   ],
   "source": [
    "df.skills.unique"
   ]
  },
  {
   "cell_type": "code",
   "execution_count": null,
   "id": "b6e025e5",
   "metadata": {},
   "outputs": [],
   "source": []
  },
  {
   "cell_type": "code",
   "execution_count": null,
   "id": "d08a76e7",
   "metadata": {},
   "outputs": [],
   "source": []
  },
  {
   "cell_type": "code",
   "execution_count": null,
   "id": "ad14f6bc",
   "metadata": {},
   "outputs": [],
   "source": []
  }
 ],
 "metadata": {
  "kernelspec": {
   "display_name": ".venv",
   "language": "python",
   "name": "python3"
  },
  "language_info": {
   "codemirror_mode": {
    "name": "ipython",
    "version": 3
   },
   "file_extension": ".py",
   "mimetype": "text/x-python",
   "name": "python",
   "nbconvert_exporter": "python",
   "pygments_lexer": "ipython3",
   "version": "3.10.1"
  }
 },
 "nbformat": 4,
 "nbformat_minor": 5
}
